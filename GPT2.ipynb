{
 "cells": [
  {
   "cell_type": "code",
   "execution_count": 3,
   "metadata": {},
   "outputs": [],
   "source": [
    "# !wget https://raw.githubusercontent.com/karpathy/char-rnn/master/data/tinyshakespeare/input.txt"
   ]
  },
  {
   "cell_type": "code",
   "execution_count": 4,
   "metadata": {},
   "outputs": [],
   "source": [
    "# read it in to inspect it\n",
    "with open('input.txt', 'r', encoding='utf-8') as f:\n",
    "    text = f.read()"
   ]
  },
  {
   "cell_type": "code",
   "execution_count": 7,
   "metadata": {},
   "outputs": [
    {
     "name": "stdout",
     "output_type": "stream",
     "text": [
      "First Citizen:\n",
      "Before we proceed any further, hear me speak.\n",
      "\n",
      "All:\n",
      "Speak, speak.\n",
      "\n",
      "First Citizen:\n",
      "You are all resolved rather to die than to famish?\n",
      "\n",
      "All:\n",
      "Resolved. resolved.\n",
      "\n",
      "First Citizen:\n",
      "First, you know Caius Marcius is chief enemy to the people.\n",
      "\n",
      "All:\n",
      "We know't, we know't.\n",
      "\n",
      "First Citizen:\n",
      "Let us kill him, and we'll have corn at our own price.\n",
      "Is't a verdict?\n",
      "\n",
      "All:\n",
      "No more talking on't; let it be done: away, away!\n",
      "\n",
      "Second Citizen:\n",
      "One word, good citizens.\n",
      "\n",
      "First Citizen:\n",
      "We are accounted poor citizens, the patricians good.\n",
      "What authority surfeits on would relieve us: if they\n",
      "would yield us but the superfluity, while it were\n",
      "wholesome, we might guess they relieved us humanely;\n",
      "but they think we are too dear: the leanness that\n",
      "afflicts us, the object of our misery, is as an\n",
      "inventory to particularise their abundance; our\n",
      "sufferance is a gain to them Let us revenge this with\n",
      "our pikes, ere we become rakes: for the gods know I\n",
      "speak this in hunger for bread, not in thirst for revenge.\n",
      "\n",
      "\n"
     ]
    }
   ],
   "source": [
    "print(text[:1000])"
   ]
  },
  {
   "cell_type": "code",
   "execution_count": 9,
   "metadata": {},
   "outputs": [
    {
     "name": "stdout",
     "output_type": "stream",
     "text": [
      "length of text: 1115394\n"
     ]
    }
   ],
   "source": [
    "print(\"length of text:\",len(text))"
   ]
  },
  {
   "cell_type": "code",
   "execution_count": 12,
   "metadata": {},
   "outputs": [
    {
     "name": "stdout",
     "output_type": "stream",
     "text": [
      "65\n",
      "\n",
      " !$&',-.3:;?ABCDEFGHIJKLMNOPQRSTUVWXYZabcdefghijklmnopqrstuvwxyz\n"
     ]
    }
   ],
   "source": [
    "chars = sorted(list(set(text)))\n",
    "vocab_size = len(chars)\n",
    "\n",
    "print(vocab_size)\n",
    "print(''.join(chars))"
   ]
  },
  {
   "cell_type": "markdown",
   "metadata": {},
   "source": [
    "##### We need to convert this text into sequence of numbers so that the model can understand.\n",
    "- Let's build a naive tokenizer that assigns a number in the order of vocabulary"
   ]
  },
  {
   "cell_type": "code",
   "execution_count": 16,
   "metadata": {},
   "outputs": [
    {
     "name": "stdout",
     "output_type": "stream",
     "text": [
      "[46, 43, 50, 50, 53, 1, 58, 46, 43, 56, 43]\n",
      "hello there\n"
     ]
    }
   ],
   "source": [
    "stoi = {ch:i for i,ch in enumerate(chars)}\n",
    "itos = {i:ch for i,ch in enumerate(chars)}\n",
    "\n",
    "encode = lambda s: [stoi[char] for char in s]\n",
    "decode = lambda s:''.join([itos[i] for i in s])\n",
    "\n",
    "print(encode(\"hello there\"))\n",
    "print(decode(encode(\"hello there\")))"
   ]
  },
  {
   "cell_type": "code",
   "execution_count": 18,
   "metadata": {},
   "outputs": [
    {
     "name": "stdout",
     "output_type": "stream",
     "text": [
      "torch.Size([1115394]) torch.int64\n"
     ]
    }
   ],
   "source": [
    "#tokenize input data\n",
    "tokenized_text = encode(text)\n",
    "import torch\n",
    "data = torch.tensor(tokenized_text,dtype=torch.long)\n",
    "\n",
    "print(data.shape,data.dtype)"
   ]
  },
  {
   "cell_type": "code",
   "execution_count": 19,
   "metadata": {},
   "outputs": [],
   "source": [
    "#split the data into train and validation\n",
    "n = int(0.9*len(text))\n",
    "train = data[:n]\n",
    "val = data[n:]"
   ]
  },
  {
   "cell_type": "code",
   "execution_count": 27,
   "metadata": {},
   "outputs": [
    {
     "name": "stdout",
     "output_type": "stream",
     "text": [
      "torch.Size([4, 8]) torch.Size([4, 8])\n",
      "tensor([[ 1, 57, 53,  1, 40, 53, 50, 42],\n",
      "        [ 1, 46, 47, 57,  1, 46, 39, 54],\n",
      "        [58,  1, 53, 44,  0, 58, 46, 63],\n",
      "        [ 1, 46, 43, 56,  1, 47, 52,  1]])\n",
      "tensor([[57, 53,  1, 40, 53, 50, 42,  0],\n",
      "        [46, 47, 57,  1, 46, 39, 54, 54],\n",
      "        [ 1, 53, 44,  0, 58, 46, 63,  1],\n",
      "        [46, 43, 56,  1, 47, 52,  1, 46]])\n"
     ]
    }
   ],
   "source": [
    "torch.manual_seed(121)\n",
    "batch_size = 4\n",
    "block_size = 8 #context length\n",
    "\n",
    "#get sample batch data\n",
    "def get_batch(split):\n",
    "    data = train if split==\"train\" else val\n",
    "    ix = torch.randint(len(data)-block_size,(batch_size,))\n",
    "    x = torch.stack([data[i:i+block_size] for i in ix])\n",
    "    y = torch.stack([data[i+1:i+block_size+1] for i in ix])\n",
    "    \n",
    "    return x,y\n",
    "\n",
    "xb,yb = get_batch(\"train\")\n",
    "print(xb.shape,yb.shape)\n",
    "print(xb)\n",
    "print(yb)\n",
    "    "
   ]
  },
  {
   "cell_type": "code",
   "execution_count": 26,
   "metadata": {},
   "outputs": [
    {
     "data": {
      "text/plain": [
       "tensor([829749, 904018, 166308, 803508])"
      ]
     },
     "execution_count": 26,
     "metadata": {},
     "output_type": "execute_result"
    }
   ],
   "source": [
    "torch.randint(len(data)-8,(4,))"
   ]
  },
  {
   "cell_type": "code",
   "execution_count": 74,
   "metadata": {},
   "outputs": [],
   "source": [
    "#let's build a simple bigram model\n",
    "import torch\n",
    "import torch.nn as nn   \n",
    "from torch.nn import functional as F\n",
    "\n",
    "class BigramLanguageModel(nn.Module):\n",
    "    def __init__(self,vocab_size):\n",
    "        super().__init__()\n",
    "        self.token_embedding = nn.Embedding(vocab_size,vocab_size)\n",
    "    \n",
    "    def forward(self,idx,targets=None):\n",
    "        \n",
    "        logits = self.token_embedding(idx)\n",
    "        if targets is None:\n",
    "            loss = None\n",
    "        else:\n",
    "            B,T,C = logits.shape\n",
    "            targets = targets.view(B*T)\n",
    "            logits = logits.view(B*T,C)\n",
    "            loss = F.cross_entropy(logits,targets)\n",
    "        return logits,loss\n",
    "    \n",
    "    \n",
    "    def generate(self, idx, max_tokens):\n",
    "        # idx BxT\n",
    "        \n",
    "        for _ in range(max_tokens):\n",
    "            logits,loss = self(idx) #logits - BxTxC\n",
    "            logits = logits[:,-1,:] #take only the last prediction\n",
    "            probs = F.softmax(logits,dim=1)\n",
    "            \n",
    "            idx_next = torch.multinomial(probs,num_samples=1)\n",
    "            idx = torch.cat((idx,idx_next),dim=1)\n",
    "        \n",
    "        return idx            "
   ]
  },
  {
   "cell_type": "code",
   "execution_count": 83,
   "metadata": {},
   "outputs": [],
   "source": [
    "m = BigramLanguageModel(vocab_size)"
   ]
  },
  {
   "cell_type": "code",
   "execution_count": 84,
   "metadata": {},
   "outputs": [],
   "source": [
    "logits,loss = m(xb,yb)"
   ]
  },
  {
   "cell_type": "code",
   "execution_count": 85,
   "metadata": {},
   "outputs": [
    {
     "data": {
      "text/plain": [
       "(torch.Size([32, 65]), tensor(4.7485, grad_fn=<NllLossBackward0>))"
      ]
     },
     "execution_count": 85,
     "metadata": {},
     "output_type": "execute_result"
    }
   ],
   "source": [
    "logits.shape,loss"
   ]
  },
  {
   "cell_type": "code",
   "execution_count": 89,
   "metadata": {},
   "outputs": [
    {
     "data": {
      "text/plain": [
       "tensor([ 1, 57, 53,  1, 40, 53, 50, 42, 41, 25, 49, 54,  7, 64, 48, 33, 55, 33])"
      ]
     },
     "execution_count": 89,
     "metadata": {},
     "output_type": "execute_result"
    }
   ],
   "source": [
    "m.generate(xb[:1],max_tokens=10)[0]"
   ]
  },
  {
   "cell_type": "code",
   "execution_count": 97,
   "metadata": {},
   "outputs": [
    {
     "name": "stdout",
     "output_type": "stream",
     "text": [
      "2.5418200492858887\n"
     ]
    }
   ],
   "source": [
    "#optimizer\n",
    "optimizer = torch.optim.AdamW(m.parameters(),lr=1e-3)\n",
    "\n",
    "batch_size = 32\n",
    "for steps in range(10000):\n",
    "    xb,yb = get_batch(\"train\")\n",
    "    optimizer.zero_grad(set_to_none=True)\n",
    "    logits,loss = m(xb,yb)\n",
    "    loss.backward()\n",
    "    optimizer.step()\n",
    "    \n",
    "print(loss.item())\n",
    "    "
   ]
  },
  {
   "cell_type": "code",
   "execution_count": 100,
   "metadata": {},
   "outputs": [
    {
     "name": "stdout",
     "output_type": "stream",
     "text": [
      "\n",
      "ach he ellk, larerdoriflewhen!\n",
      "The ous maust yowe, r ard\n",
      "T: malag sealy takimyo shive the.\n",
      "\n",
      "RMESOFibr ouere m the, kirdomporoutrefathavanfllpe if m thado athe o blsm\n",
      "HAThen;\n",
      "IOPOMurar fup theanghe ithimeshero m:\n",
      "\n",
      "NI\n",
      "Sak, if pofof Be b inginteve s he asomys mmal ce wimanryord,\n",
      "Sed eatcofl youn ne bed\n"
     ]
    }
   ],
   "source": [
    "print(decode(m.generate(torch.zeros((1,1),dtype=torch.long),max_tokens=300)[0].tolist()))"
   ]
  },
  {
   "cell_type": "code",
   "execution_count": 115,
   "metadata": {},
   "outputs": [],
   "source": [
    "# take average of all previous contexts\n",
    "\n",
    "T = 8\n",
    "x = torch.randn((T,T))\n",
    "wei = torch.tril(torch.ones(T,T))\n",
    "wei = wei/wei.sum(1,keepdims=True)\n",
    "\n",
    "xbow = x@wei"
   ]
  },
  {
   "cell_type": "code",
   "execution_count": 116,
   "metadata": {},
   "outputs": [
    {
     "data": {
      "text/plain": [
       "tensor([[-0.6792,  0.3529,  0.4176,  0.2401,  0.1672, -0.0259,  0.0397, -0.1052],\n",
       "        [-1.0425,  0.9396,  0.6231,  0.0290, -0.0215,  0.0198,  0.0591, -0.0123],\n",
       "        [ 0.0340, -0.0114,  0.4688,  0.3063,  0.1214, -0.1330, -0.1206, -0.0070],\n",
       "        [-2.0362, -0.9428, -0.8375, -0.4205, -0.5485, -0.2874, -0.0659, -0.0107],\n",
       "        [ 0.6953, -0.3161, -0.3078, -0.1755, -0.0136,  0.1472,  0.3127,  0.0565],\n",
       "        [ 0.7936, -0.0770, -0.5167, -0.4826, -0.0243,  0.0374,  0.0553,  0.0681],\n",
       "        [-0.8949,  0.4318, -0.0997,  0.2917,  0.2596,  0.1146,  0.2080,  0.0103],\n",
       "        [ 0.7465,  0.1750, -0.0407, -0.5355, -0.4628, -0.2273, -0.0476,  0.1060]])"
      ]
     },
     "execution_count": 116,
     "metadata": {},
     "output_type": "execute_result"
    }
   ],
   "source": [
    "xbow"
   ]
  },
  {
   "cell_type": "code",
   "execution_count": 110,
   "metadata": {},
   "outputs": [
    {
     "data": {
      "text/plain": [
       "torch.Size([8, 8])"
      ]
     },
     "execution_count": 110,
     "metadata": {},
     "output_type": "execute_result"
    }
   ],
   "source": [
    "wei.shape"
   ]
  },
  {
   "cell_type": "code",
   "execution_count": null,
   "metadata": {},
   "outputs": [],
   "source": []
  }
 ],
 "metadata": {
  "kernelspec": {
   "display_name": "base",
   "language": "python",
   "name": "python3"
  },
  "language_info": {
   "codemirror_mode": {
    "name": "ipython",
    "version": 3
   },
   "file_extension": ".py",
   "mimetype": "text/x-python",
   "name": "python",
   "nbconvert_exporter": "python",
   "pygments_lexer": "ipython3",
   "version": "3.11.5"
  }
 },
 "nbformat": 4,
 "nbformat_minor": 2
}
